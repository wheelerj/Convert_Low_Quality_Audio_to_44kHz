{
  "nbformat": 4,
  "nbformat_minor": 0,
  "metadata": {
    "colab": {
      "private_outputs": true,
      "provenance": []
    },
    "kernelspec": {
      "name": "python3",
      "display_name": "Python 3"
    },
    "language_info": {
      "name": "python"
    }
  },
  "cells": [
    {
      "cell_type": "code",
      "source": [
        "from google.colab import drive\n",
        "drive.mount('/content/drive')"
      ],
      "metadata": {
        "id": "ywHEHivy7OK4"
      },
      "execution_count": null,
      "outputs": []
    },
    {
      "cell_type": "code",
      "execution_count": null,
      "metadata": {
        "id": "FejDU79k60Jn"
      },
      "outputs": [],
      "source": [
        "# @title Convert Low Quality Audio to 44.1 kHz\n",
        "#\n",
        "# CONVERTS LOW QUALITY AUDIO MP3 TO 44100 Hz\n",
        "#\n",
        "# This section of the code is responsible for converting low-quality audio files to a standard sample rate of 44100 Hz,\n",
        "# which is required for podcast uploads. The function defined below will scan through a specified directory for MP3 files,\n",
        "# check their sample rates, and convert any files with a sample rate lower than 44100 Hz to the target sample rate.\n",
        "# The conversion ensures that all audio files meet the required quality standards for the podcast platform.\n",
        "#\n",
        "# Written by Jeremy Wheeler\n",
        "#\n",
        "\n",
        "!apt-get install -y ffmpeg\n",
        "!pip install pydub tqdm\n",
        "\n",
        "import os\n",
        "from pydub import AudioSegment\n",
        "from tqdm import tqdm\n",
        "\n",
        "# Function to convert the sample rate of MP3 files in a directory to the target sample rate\n",
        "def convert_sample_rate(raw_directory, pending_directory, target_sample_rate=44100):\n",
        "    # Collect all MP3 files in the directory and its subdirectories\n",
        "    mp3_files = []\n",
        "    for root, _, files in os.walk(raw_directory):\n",
        "        for file in files:\n",
        "            if file.endswith('.mp3'):\n",
        "                mp3_files.append(os.path.join(root, file))\n",
        "\n",
        "    # Initialize the progress bar\n",
        "    for file_path in tqdm(mp3_files, desc=\"Converting audio files\", unit=\"file\"):\n",
        "        file = os.path.basename(file_path)\n",
        "        # Load the audio file using pydub\n",
        "        audio = AudioSegment.from_file(file_path)\n",
        "\n",
        "        # Check if the audio file's sample rate is less than the target sample rate\n",
        "        if audio.frame_rate < target_sample_rate:\n",
        "            print(f'Converting {file} from {audio.frame_rate}Hz to {target_sample_rate}Hz...')\n",
        "            # Convert the audio file's sample rate to the target sample rate\n",
        "            converted_audio = audio.set_frame_rate(target_sample_rate)\n",
        "            # Define the path for the converted audio file in the pending directory\n",
        "            converted_file_path = os.path.join(pending_directory, file)\n",
        "            # Export the converted audio file in MP3 format\n",
        "            converted_audio.export(converted_file_path, format='mp3')\n",
        "            print(f'Saved converted file to {converted_file_path}')\n",
        "        else:\n",
        "            # Skip conversion if the audio file's sample rate is already at or above the target sample rate\n",
        "            print(f'Skipping {file}, sample rate is {audio.frame_rate}Hz')\n",
        "\n",
        "# Specify the directories containing the MP3 files and where to move the converted files\n",
        "mp3_directory1 = '/content/drive/MyDrive/input'\n",
        "pending_directory = '/content/drive/MyDrive/output'\n",
        "\n",
        "# Ensure the pending directory exists\n",
        "os.makedirs(pending_directory, exist_ok=True)\n",
        "\n",
        "# Call the function to convert the sample rate of MP3 files in the specified directory and move them to the pending directory\n",
        "convert_sample_rate(mp3_directory1, pending_directory)\n"
      ]
    }
  ]
}